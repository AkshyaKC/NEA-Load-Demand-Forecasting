{
 "cells": [
  {
   "cell_type": "code",
   "execution_count": 2,
   "metadata": {},
   "outputs": [],
   "source": [
    "import re\n",
    "import os\n",
    "import bs4\n",
    "import requests\n",
    "import nepali_datetime as nep_dt\n",
    "import pandas as pd\n",
    "from langchain.document_loaders import WebBaseLoader"
   ]
  },
  {
   "cell_type": "code",
   "execution_count": 3,
   "metadata": {},
   "outputs": [],
   "source": [
    "file_path = \"../csv_files/real_time_data.csv\"\n",
    "loader = WebBaseLoader(\"https://www.nea.org.np/\")\n",
    "docs = loader.load()\n",
    "page_content=docs[0].page_content"
   ]
  },
  {
   "cell_type": "code",
   "execution_count": 5,
   "metadata": {},
   "outputs": [
    {
     "name": "stdout",
     "output_type": "stream",
     "text": [
      "Successfully appended data for 2082-01-07\n"
     ]
    }
   ],
   "source": [
    "# Define patterns in a dictionary with their corresponding variable names\n",
    "patterns = {\n",
    "    'nea': r'NEA\\s*[–-]\\s*(\\d+)\\s*MWh',\n",
    "    'subsidiary': r'NEA Subsidiary Companies\\s*[–-]\\s*(\\d+)\\s*MWh', \n",
    "    'ipp': r'IPP\\s*[–-]\\s*(\\d+)\\s*MWh',\n",
    "    'imports': r'Import\\s*[–-]\\s*(\\d+)\\s*MWh',\n",
    "    'interruption': r'Interruption\\s*[–-]\\s*(\\d+)\\s*MWh',\n",
    "    'demand': r'National Energy Demand\\s*[–-]\\s*(\\d+)\\s*MWh',\n",
    "    'peak': r'National Peak Demand\\s*[–-]\\s*(\\d+)\\s*MW'\n",
    "}\n",
    "\n",
    "# Extract all values in one pass using dictionary comprehension\n",
    "values = {\n",
    "    var_name: re.search(pattern, page_content).group(1) if re.search(pattern, page_content) else '0'\n",
    "    for var_name, pattern in patterns.items()\n",
    "}\n",
    "\n",
    "# Create row of data directly from values dictionary\n",
    "new_row = {\n",
    "    'date': nep_dt.date.today(),\n",
    "    'nea': values['nea'],\n",
    "    'nea_subsidiary_cmpanies': values['subsidiary'], \n",
    "    'ipp': values['ipp'],\n",
    "    'import': values['imports'],\n",
    "    'interruption': values['interruption'],\n",
    "    'national_energy_demand': values['demand'],\n",
    "    'national_peak_demand': values['peak']\n",
    "}\n",
    "\n",
    "# Append to CSV file\n",
    "try:\n",
    "    df = pd.read_csv(file_path)\n",
    "    df.loc[len(df)] = new_row  # More efficient than concat for single row\n",
    "    df.to_csv(file_path, index=False)\n",
    "    print(f\"Successfully appended data for {nep_dt.date.today()}\")\n",
    "except Exception as e:\n",
    "    print(f\"Error appending to CSV: {str(e)}\")\n"
   ]
  },
  {
   "cell_type": "code",
   "execution_count": null,
   "metadata": {},
   "outputs": [],
   "source": []
  }
 ],
 "metadata": {
  "kernelspec": {
   "display_name": "venv",
   "language": "python",
   "name": "python3"
  },
  "language_info": {
   "codemirror_mode": {
    "name": "ipython",
    "version": 3
   },
   "file_extension": ".py",
   "mimetype": "text/x-python",
   "name": "python",
   "nbconvert_exporter": "python",
   "pygments_lexer": "ipython3",
   "version": "3.11.2"
  }
 },
 "nbformat": 4,
 "nbformat_minor": 2
}
